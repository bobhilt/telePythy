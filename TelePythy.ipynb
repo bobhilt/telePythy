{
 "cells": [
  {
   "cell_type": "markdown",
   "metadata": {},
   "source": [
    "# telepathy_game\n",
    "Development Steps:\n",
    "\n",
    "- Draw board\n",
    "    - [sun star eye moon circle bolt diamond hand heart] - Use font-icons for symbols.\n",
    "[yellow orange red purple pink blue green silver white] - Standard or chosen constants for each color.\n",
    "[A..R] [1..18]\n",
    "- 1-Player game\n",
    "    - Get name\n",
    "    - Randomly select target square\n",
    "    - Render Board\n",
    "    - Offer player a chance to guess or solve\n",
    "        - Entering in coordinates, fills out color and symbol, or\n",
    "        - Click on square.\n",
    "    - Compute results\n",
    "        - Add guess to guesses list.\n",
    "        - Compute Yes/No answer\n",
    "        - Which squares are eliminated? (capture how many are eliminated with the guess, mark them)\n",
    "        - Render Board\n",
    "        - Provide Results\n",
    "        - If player is solving, congratulate player and end game if correct, or show solution and wah-wah if incorrect."
   ]
  },
  {
   "cell_type": "code",
   "execution_count": 14,
   "metadata": {},
   "outputs": [],
   "source": [
    "class Colors(dict):\n",
    "    # for now, key - value.  value should be object to have color value, shaded value, highlighted value\n",
    "    _c = ['Yellow,' 'Orange', 'Red', 'Purple', 'Pink', 'Blue', 'Green', 'Silver', 'White']\n",
    "    colors = dict(zip(_c,_c))\n",
    "    "
   ]
  },
  {
   "cell_type": "code",
   "execution_count": 22,
   "metadata": {},
   "outputs": [],
   "source": [
    "class Shapes(dict):\n",
    "    # for now, key -value. Later add graphic or visual font value to member shapes.\n",
    "    _s = ['sun', 'star', 'eye', 'moon', 'circle', 'bolt', 'diamond', 'hand', 'heart']\n",
    "    shapes = dict(zip(_s, _s))"
   ]
  },
  {
   "cell_type": "code",
   "execution_count": 10,
   "metadata": {},
   "outputs": [],
   "source": [
    "class Board:\n",
    "    _grid_size = 18\n",
    "    colors = Colors().colors\n",
    "    shapes = Shapes().shapes\n",
    "    \n",
    "    def size(self):\n",
    "        return self._grid_size"
   ]
  },
  {
   "cell_type": "code",
   "execution_count": 11,
   "metadata": {},
   "outputs": [],
   "source": [
    "class Game():\n",
    "    def __init__(self):\n",
    "        self.board = Board()"
   ]
  },
  {
   "cell_type": "code",
   "execution_count": 12,
   "metadata": {},
   "outputs": [],
   "source": [
    "game = Game()\n",
    "\n"
   ]
  },
  {
   "cell_type": "code",
   "execution_count": 19,
   "metadata": {},
   "outputs": [
    {
     "name": "stdout",
     "output_type": "stream",
     "text": [
      "Yellow,Orange <class 'str'>Red <class 'str'>Purple <class 'str'>Pink <class 'str'>Blue <class 'str'>Green <class 'str'>Silver <class 'str'>White <class 'str'>"
     ]
    }
   ],
   "source": [
    "b = game.board\n",
    "for color in b.colors.values():\n",
    "    print(color, end='')\n",
    "print (b.colors['Yellow'])"
   ]
  },
  {
   "cell_type": "code",
   "execution_count": null,
   "metadata": {},
   "outputs": [],
   "source": [
    "import unittest\n",
    "\n",
    "class TestGameStartup(unittest.TestCase):\n",
    "    \n",
    "    \n",
    "    def test_board_grid_has_18_squares(self):\n",
    "        grid = Grid()\n",
    "        self.assertEqual(18,grid.size())\n",
    "    \n",
    "    def test_game_has_a_grid(self):\n",
    "        game = Game()\n",
    "        self.assertIsInstance(game.grid,Grid)\n",
    "        \n",
    "    def test_9_colors(self):\n",
    "        grid = Grid()\n",
    "        self.assertIn(grid.colors,'Yellow')\n",
    "        self.assertIn(grid.colors,'Orange')\n",
    "        self.assertIn(grid.colors,'Red')\n",
    "        self.assertIn(grid.colors,'Purple')\n",
    "        self.assertIn(grid.colors,'Pink')\n",
    "        self.assertIn(grid.colors,'Blue')\n",
    "        self.assertIn(grid.colors,'Green')\n",
    "        self.assertIn(grid.colors,'Silver')\n",
    "        self.assertIn(grid.colors,'White')"
   ]
  },
  {
   "cell_type": "code",
   "execution_count": null,
   "metadata": {},
   "outputs": [],
   "source": [
    "if __name__ == '__main__':\n",
    "    # fails in notebook with just unittest.main()\n",
    "    # https://stackoverflow.com/questions/37895781/unable-to-run-unittests-main-function-in-ipython-jupyter-notebook/38012249#38012249\n",
    "    unittest.main(argv=['first-arg-is-ignored'], exit=False)"
   ]
  },
  {
   "cell_type": "code",
   "execution_count": null,
   "metadata": {},
   "outputs": [],
   "source": []
  }
 ],
 "metadata": {
  "kernelspec": {
   "display_name": "Python 3",
   "language": "python",
   "name": "python3"
  },
  "language_info": {
   "codemirror_mode": {
    "name": "ipython",
    "version": 3
   },
   "file_extension": ".py",
   "mimetype": "text/x-python",
   "name": "python",
   "nbconvert_exporter": "python",
   "pygments_lexer": "ipython3",
   "version": "3.6.3"
  }
 },
 "nbformat": 4,
 "nbformat_minor": 2
}
